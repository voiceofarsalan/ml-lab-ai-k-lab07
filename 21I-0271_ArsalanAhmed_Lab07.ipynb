{
 "cells": [
  {
   "cell_type": "markdown",
   "id": "d44ee8ad",
   "metadata": {},
   "source": [
    "## Name: Arsalan Ahmed\n",
    "### Roll No: 21I-0271\n",
    "#### Section: K"
   ]
  },
  {
   "cell_type": "code",
   "execution_count": 1,
   "id": "e25b0c22",
   "metadata": {},
   "outputs": [],
   "source": [
    "import torch\n",
    "import torch.nn as nn"
   ]
  },
  {
   "cell_type": "code",
   "execution_count": 56,
   "id": "7cd9f179",
   "metadata": {},
   "outputs": [],
   "source": [
    "class Discriminator(nn.Module):\n",
    "    def __init__(self, input_channels=3):\n",
    "        super(Discriminator, self).__init__()\n",
    "        self.model = nn.Sequential(\n",
    "            nn.Conv2d(input_channels, 128, kernel_size=4, stride=2, padding=1),\n",
    "            nn.ReLU(inplace=True),\n",
    "            \n",
    "            nn.Conv2d(128, 256, kernel_size=4, stride=2, padding=1),\n",
    "            nn.BatchNorm2d(256),\n",
    "            nn.ReLU(inplace=True),\n",
    "            \n",
    "            nn.Conv2d(256, 512, kernel_size=4, stride=2, padding=1),\n",
    "            nn.BatchNorm2d(512),\n",
    "            nn.ReLU(inplace=True),\n",
    "            \n",
    "            nn.Conv2d(512, 1024, kernel_size=4, stride=2, padding=1),\n",
    "            nn.BatchNorm2d(1024),\n",
    "            nn.ReLU(inplace=True),\n",
    "            \n",
    "            nn.Conv2d(1024, 1, kernel_size=4, stride=1, padding=0),\n",
    "            nn.Sigmoid()\n",
    "        )\n",
    "\n",
    "    def forward(self, x):\n",
    "        return self.model(x)"
   ]
  },
  {
   "cell_type": "code",
   "execution_count": 96,
   "id": "c5ce0543",
   "metadata": {},
   "outputs": [],
   "source": [
    "class Generator(nn.Module):\n",
    "    def __init__(self, input_channels=3):\n",
    "        super(Generator, self).__init__()\n",
    "        self.model = nn.Sequential(\n",
    "            \n",
    "            nn.ConvTranspose2d(input_channels, 1024, kernel_size=4, stride=2, padding=0),\n",
    "            nn.BatchNorm2d(1024),\n",
    "            nn.ReLU(inplace=True),\n",
    "            \n",
    "            nn.ConvTranspose2d(1024, 512, kernel_size=4, stride=2, padding=1),\n",
    "            nn.BatchNorm2d(512),\n",
    "            nn.ReLU(inplace=True),\n",
    "            \n",
    "            nn.ConvTranspose2d(512, 256, kernel_size=4, stride=2, padding=1),\n",
    "            nn.BatchNorm2d(256),\n",
    "            nn.ReLU(inplace=True),\n",
    "            \n",
    "            nn.ConvTranspose2d(256, 128, kernel_size=4, stride=2, padding=1),\n",
    "            nn.BatchNorm2d(128),\n",
    "            nn.ReLU(inplace=True),\n",
    "            \n",
    "            nn.ConvTranspose2d(128, 3, kernel_size=4, stride=2, padding=1),\n",
    "            nn.Sigmoid()\n",
    "        )\n",
    "\n",
    "    def forward(self, x):\n",
    "        return self.model(x)"
   ]
  },
  {
   "cell_type": "code",
   "execution_count": 62,
   "id": "aa8e067c",
   "metadata": {},
   "outputs": [],
   "source": [
    "input_noise_dim = 64 \n",
    "input_image_channels = 3 \n",
    "output_image_channels = 3  \n",
    "input_tensor = torch.randn(1,3, 64, 64) \n",
    "input_tensor2=torch.randn(100,1,1)"
   ]
  },
  {
   "cell_type": "code",
   "execution_count": 54,
   "id": "a7f6b1e5",
   "metadata": {},
   "outputs": [
    {
     "data": {
      "text/plain": [
       "torch.Size([1, 3, 64, 64])"
      ]
     },
     "execution_count": 54,
     "metadata": {},
     "output_type": "execute_result"
    }
   ],
   "source": [
    "input_tensor.shape"
   ]
  },
  {
   "cell_type": "code",
   "execution_count": 55,
   "id": "c53a84c8",
   "metadata": {},
   "outputs": [
    {
     "name": "stdout",
     "output_type": "stream",
     "text": [
      "Generated fake image shape: torch.Size([1, 3, 2144, 2144])\n",
      "Discriminator output shape: torch.Size([1, 1, 64, 64])\n"
     ]
    }
   ],
   "source": [
    "discriminator = Discriminator(input_channels=input_image_channels)\n",
    "generator = Generator(3)\n",
    "\n",
    "fake_image = generator(input_tensor)\n",
    "discriminator_output = discriminator(fake_image)\n",
    "\n",
    "\n",
    "print(\"Generated fake image shape:\", fake_image.shape)\n",
    "print(\"Discriminator output shape:\", discriminator_output.shape)"
   ]
  },
  {
   "cell_type": "code",
   "execution_count": 63,
   "id": "02da7754",
   "metadata": {},
   "outputs": [
    {
     "name": "stdout",
     "output_type": "stream",
     "text": [
      "Generated fake image shape: torch.Size([1, 3, 2048, 2048])\n",
      "Discriminator output shape: torch.Size([1, 1, 125, 125])\n"
     ]
    }
   ],
   "source": [
    "discriminator = Discriminator(input_channels=input_image_channels)\n",
    "generator = Generator(3)\n",
    "\n",
    "fake_image = generator(input_tensor)\n",
    "discriminator_output = discriminator(fake_image)\n",
    "\n",
    "\n",
    "print(\"Generated fake image shape:\", fake_image.shape)\n",
    "print(\"Discriminator output shape:\", discriminator_output.shape)"
   ]
  },
  {
   "cell_type": "code",
   "execution_count": 70,
   "id": "1329b1fc",
   "metadata": {},
   "outputs": [],
   "source": [
    "g=Generator()"
   ]
  },
  {
   "cell_type": "code",
   "execution_count": 102,
   "id": "872ed067",
   "metadata": {},
   "outputs": [],
   "source": [
    "input_tensor = torch.randn(3, 64, 64) \n",
    "input_tensor2 =torch.randn(1,3,100,100)"
   ]
  },
  {
   "cell_type": "code",
   "execution_count": 74,
   "id": "5600db0c",
   "metadata": {},
   "outputs": [],
   "source": [
    "img=g(input_tensor)"
   ]
  },
  {
   "cell_type": "code",
   "execution_count": 75,
   "id": "ad2a0acf",
   "metadata": {},
   "outputs": [
    {
     "data": {
      "text/plain": [
       "torch.Size([1, 3, 2048, 2048])"
      ]
     },
     "execution_count": 75,
     "metadata": {},
     "output_type": "execute_result"
    }
   ],
   "source": [
    "img.shape"
   ]
  },
  {
   "cell_type": "code",
   "execution_count": 90,
   "id": "dee03465",
   "metadata": {},
   "outputs": [],
   "source": [
    "dis=discriminator(input_tensor2)"
   ]
  },
  {
   "cell_type": "code",
   "execution_count": 91,
   "id": "79bbcd3e",
   "metadata": {},
   "outputs": [
    {
     "data": {
      "text/plain": [
       "torch.Size([1, 1, 3, 3])"
      ]
     },
     "execution_count": 91,
     "metadata": {},
     "output_type": "execute_result"
    }
   ],
   "source": [
    "dis.shape"
   ]
  },
  {
   "cell_type": "code",
   "execution_count": 100,
   "id": "7cab828f",
   "metadata": {},
   "outputs": [],
   "source": [
    "g=Generator(100)"
   ]
  },
  {
   "cell_type": "code",
   "execution_count": 99,
   "id": "aa631a98",
   "metadata": {},
   "outputs": [
    {
     "data": {
      "text/plain": [
       "torch.Size([1, 3, 2080, 2080])"
      ]
     },
     "execution_count": 99,
     "metadata": {},
     "output_type": "execute_result"
    }
   ],
   "source": [
    "img2.shape"
   ]
  },
  {
   "cell_type": "code",
   "execution_count": 104,
   "id": "73deeb78",
   "metadata": {},
   "outputs": [
    {
     "name": "stdout",
     "output_type": "stream",
     "text": [
      "torch.Size([1, 1, 1])\n",
      "torch.Size([3, 64, 64])\n"
     ]
    }
   ],
   "source": [
    "img2.shape\n",
    "dis.shape"
   ]
  },
  {
   "cell_type": "code",
   "execution_count": null,
   "id": "7e11339a",
   "metadata": {},
   "outputs": [],
   "source": []
  }
 ],
 "metadata": {
  "kernelspec": {
   "display_name": "Python 3 (ipykernel)",
   "language": "python",
   "name": "python3"
  },
  "language_info": {
   "codemirror_mode": {
    "name": "ipython",
    "version": 3
   },
   "file_extension": ".py",
   "mimetype": "text/x-python",
   "name": "python",
   "nbconvert_exporter": "python",
   "pygments_lexer": "ipython3",
   "version": "3.11.3"
  }
 },
 "nbformat": 4,
 "nbformat_minor": 5
}
